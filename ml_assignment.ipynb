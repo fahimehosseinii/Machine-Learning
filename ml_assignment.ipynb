{
 "cells": [
  {
   "cell_type": "code",
   "execution_count": 1,
   "metadata": {
    "collapsed": true
   },
   "outputs": [],
   "source": [
    "# show the matplotlib plotted graph within notebook lines.\n",
    "import matplotlib.pyplot as plt\n",
    "%matplotlib inline\n",
    "import seaborn as sns"
   ]
  },
  {
   "cell_type": "markdown",
   "metadata": {},
   "source": [
    "### In case that your tqdm is not installed. Please go to the Start(Windows)->Anaconda2(64-bit)->Anaconda Prompt(py35)\n",
    "\n",
    "### type: conda install tqdm -y"
   ]
  },
  {
   "cell_type": "code",
   "execution_count": 2,
   "metadata": {},
   "outputs": [
    {
     "name": "stderr",
     "output_type": "stream",
     "text": [
      "C:\\Anaconda\\envs\\py35\\lib\\site-packages\\sklearn\\cross_validation.py:44: DeprecationWarning: This module was deprecated in version 0.18 in favor of the model_selection module into which all the refactored classes and functions are moved. Also note that the interface of the new CV iterators are different from that of this module. This module will be removed in 0.20.\n",
      "  \"This module will be removed in 0.20.\", DeprecationWarning)\n",
      "C:\\Anaconda\\envs\\py35\\lib\\site-packages\\sklearn\\grid_search.py:43: DeprecationWarning: This module was deprecated in version 0.18 in favor of the model_selection module into which all the refactored classes and functions are moved. This module will be removed in 0.20.\n",
      "  DeprecationWarning)\n"
     ]
    }
   ],
   "source": [
    "# import required libraries\n",
    "# pandas:Data framework library for Python\n",
    "# sklearn: Library to perform machine learning tasks\n",
    "import os\n",
    "import time\n",
    "from tqdm import tqdm\n",
    "import pandas as pd\n",
    "import numpy as np\n",
    "import scipy\n",
    "import scipy.stats as st\n",
    "import re\n",
    "import codecs\n",
    "from collections import Counter\n",
    "import nltk\n",
    "from nltk.stem import *\n",
    "from nltk.corpus import stopwords\n",
    "import sklearn \n",
    "import sklearn.datasets\n",
    "import sklearn.metrics as metrics \n",
    "from sklearn.metrics import accuracy_score\n",
    "from sklearn.naive_bayes import GaussianNB\n",
    "from sklearn.linear_model import LogisticRegression\n",
    "from sklearn.cross_validation import StratifiedKFold\n",
    "from sklearn.svm import SVC\n",
    "from sklearn.grid_search import GridSearchCV\n",
    "from sklearn.metrics import classification_report\n",
    "from sklearn.cross_validation import train_test_split\n",
    "from sklearn.preprocessing import label_binarize\n",
    "from scipy import stats"
   ]
  },
  {
   "cell_type": "code",
   "execution_count": 3,
   "metadata": {
    "collapsed": true
   },
   "outputs": [],
   "source": [
    "# extract data\n",
    "#!tar -xf 20news-19997.tar.gz -C .\n",
    "#!gzip -d -k 20news-19997.tar.gz\n",
    "\n",
    "#!tar -xf 20news-19997.tar"
   ]
  },
  {
   "cell_type": "code",
   "execution_count": 4,
   "metadata": {},
   "outputs": [
    {
     "name": "stdout",
     "output_type": "stream",
     "text": [
      "alt.atheism\n",
      "comp.graphics\n",
      "comp.os.ms-windows.misc\n",
      "comp.sys.ibm.pc.hardware\n",
      "comp.sys.mac.hardware\n",
      "comp.windows.x\n",
      "misc.forsale\n",
      "rec.autos\n",
      "rec.motorcycles\n",
      "rec.sport.baseball\n",
      "rec.sport.hockey\n",
      "sci.crypt\n",
      "sci.electronics\n",
      "sci.med\n",
      "sci.space\n",
      "soc.religion.christian\n",
      "talk.politics.guns\n",
      "talk.politics.mideast\n",
      "talk.politics.misc\n",
      "talk.religion.misc\n"
     ]
    }
   ],
   "source": [
    "# display newsgroups directories\n",
    "!ls 20_newsgroups"
   ]
  },
  {
   "cell_type": "markdown",
   "metadata": {},
   "source": [
    "## Support functions"
   ]
  },
  {
   "cell_type": "code",
   "execution_count": 5,
   "metadata": {
    "collapsed": true
   },
   "outputs": [],
   "source": [
    "def getFilesDirectory(datapath='20_newsgroups'):\n",
    "    # create file directory for all files\n",
    "    files = []\n",
    "    for (path, dirnames, filenames) in os.walk(datapath):\n",
    "        files.extend(os.path.join(path, name) for name in filenames)\n",
    "    # putting file directories into pandas dataframe\n",
    "    directorydf= pd.DataFrame(files)\n",
    "    directorydf.columns = ['Directories']\n",
    "    return directorydf"
   ]
  },
  {
   "cell_type": "code",
   "execution_count": 6,
   "metadata": {
    "collapsed": true
   },
   "outputs": [],
   "source": [
    "directorydf = getFilesDirectory()"
   ]
  },
  {
   "cell_type": "code",
   "execution_count": 7,
   "metadata": {
    "collapsed": true
   },
   "outputs": [],
   "source": [
    "# create function to help encoding the targets\n",
    "def label_target (d):\n",
    "    if d.find(\"alt.atheism\") > 0 :\n",
    "      return 0\n",
    "    if d.find(\"comp.graphics\") > 0:\n",
    "      return 1\n",
    "    if d.find(\"comp.os.ms-windows.misc\") > 0:\n",
    "      return 2\n",
    "    if d.find(\"comp.sys.ibm.pc.hardware\") > 0:\n",
    "      return 3\n",
    "    if d.find(\"comp.sys.mac.hardware\") > 0:\n",
    "      return 4\n",
    "    if d.find(\"comp.windows.x\") > 0:\n",
    "      return 5\n",
    "    if d.find(\"misc.forsale\") > 0:\n",
    "      return 6\n",
    "    if d.find(\"rec.autos\") > 0:\n",
    "      return 7\n",
    "    if d.find(\"rec.motorcycles\") > 0:\n",
    "      return 8\n",
    "    if d.find(\"rec.sport.baseball\") > 0:\n",
    "      return 9\n",
    "    if d.find(\"rec.sport.hockey\") > 0:\n",
    "      return 10\n",
    "    if d.find(\"sci.crypt\") > 0:\n",
    "      return 11\n",
    "    if d.find(\"sci.electronics\") > 0:\n",
    "      return 12\n",
    "    if d.find(\"sci.med\") > 0:\n",
    "      return 13\n",
    "    if d.find(\"sci.space\") > 0:\n",
    "      return 14\n",
    "    if d.find(\"soc.religion.christian\") > 0:\n",
    "      return 15\n",
    "    if d.find(\"talk.politics.guns\") > 0:\n",
    "      return 16\n",
    "    if d.find(\"talk.politics.mideast\") > 0:\n",
    "      return 17\n",
    "    if d.find(\"talk.politics.misc\") > 0:\n",
    "      return 18\n",
    "    if d.find(\"talk.religion.misc\") > 0:\n",
    "      return 19\n",
    "    return 'Other'"
   ]
  },
  {
   "cell_type": "markdown",
   "metadata": {},
   "source": [
    "## Q1"
   ]
  },
  {
   "cell_type": "markdown",
   "metadata": {},
   "source": [
    "### (a)"
   ]
  },
  {
   "cell_type": "markdown",
   "metadata": {},
   "source": [
    "Before feature selection, I have lowercase my data and removed the stopwords to increase the accuracy. Words like \"the, a, I\" are used frequently in all documents and they are not good features for classification. They should be removed. \n",
    "\n",
    "I have used term frequency for the feature selection which is not expensive for large dataset. MI is time consuming and expensive.\n",
    "\n",
    "Boolean is a better feature encoding. Lenghth of documents varries, and and some words exist in may documents. Therefore, boolean feature encoding may give us a better accuracy; however, it is expensive for large data. \n",
    "\n",
    "I have selected 50,100, 150 and 200 features for 2000 documents, 100 features worked well. Therefore, for 20,000 documents I will try 1000 features. "
   ]
  },
  {
   "cell_type": "code",
   "execution_count": 8,
   "metadata": {
    "collapsed": true
   },
   "outputs": [],
   "source": [
    "#directorydf_selected= directorydf.iloc[0:20000:100, :]\n",
    "#directorydf_selected.head()\n",
    "#type (directorydf)\n",
    "#print (directorydf.columns)\n",
    "#directorydf.head()"
   ]
  },
  {
   "cell_type": "code",
   "execution_count": 9,
   "metadata": {
    "collapsed": true
   },
   "outputs": [],
   "source": [
    "#for rownum, row in enumerate(directorydf_selected.itertuples()):\n",
    "#    with codecs.open(row.Directories,\"r\" ,encoding='utf-8', errors='ignore') as myfile:\n",
    "#        tokens=[word for word in re.findall(r'\\w+', myfile.read())]\n",
    "#        list_of_words = [i.lower() for i in tokens if i.lower() not in stopwords.words('english')]\n",
    "#        print (list_of_words) "
   ]
  },
  {
   "cell_type": "markdown",
   "metadata": {},
   "source": [
    "### (b)"
   ]
  },
  {
   "cell_type": "code",
   "execution_count": 50,
   "metadata": {
    "collapsed": true
   },
   "outputs": [],
   "source": [
    "def dataPreprocessor(k, fs, encode, directorydf, size=None):\n",
    "    \"\"\"\n",
    "    INPUT\n",
    "        k: int. number of features to use\n",
    "        fs: string. From ['tf', 'mi']\n",
    "        encode: string. From ['tf', 'boolean']\n",
    "        drectorydf: Dataframe. It is given, see above support functions\n",
    "        size: int. Sample size. Default should be the data size.\n",
    "    OUTPUT\n",
    "        data: Dataframe. preprocessed data\n",
    "    \n",
    "    ps: 'tf' means term frequency, 'mi' means mutual information\n",
    "    \"\"\"\n",
    "\n",
    "    nltk.download(\"stopwords\")\n",
    "    #stop_words.update(['.', ',', '\"', \"'\", '?', '!', ':', ';', '(', ')', '[', ']', '{', '}']) # remove it if you need punctuation \n",
    "\n",
    "    directorydf= directorydf.iloc[:, :]\n",
    "    ########### your code goes here ###########\n",
    "    # Open the files and count the word frequency in each file in a loop and update the counter after finished processing a file\n",
    "    \n",
    "    counter = Counter()\n",
    "    for rownum, row in enumerate(directorydf.itertuples()):\n",
    "        with codecs.open(row.Directories,\"r\" ,encoding='utf-8', errors='ignore') as myfile:\n",
    "            tokens=[word for word in re.findall(r'\\w+', myfile.read())]\n",
    "            list_of_words = [i.lower() for i in tokens if i.lower() not in stopwords.words('english')]\n",
    "           \n",
    "            counter.update(list_of_words)\n",
    "        if (rownum % 1000 == 0):\n",
    "            print(\"processed %d files\" % (rownum+1))\n",
    "    \n",
    "    topk = counter.most_common(k)     \n",
    "            \n",
    "    if encode== \"boolean\":\n",
    "        np = []\n",
    "    # now we had top k words, count the frequecy (binary) of these words in individual file\n",
    "        for rownum, row in enumerate(directorydf.itertuples()):\n",
    "            with codecs.open(row.Directories,\"r\" ,encoding='utf-8', errors='ignore') as myfile:\n",
    "                tempCounter = Counter([word for word in re.findall(r'\\w+', myfile.read())])\n",
    "        # if the word appears in the doc, then 1, else \n",
    "                topkinDoc = [1 if tempCounter[word] > 0 else 0 for (word,wordCount) in topk]\n",
    "        # create a list for top k words with encoded target and its label\n",
    "                np.append(topkinDoc+[label_target(row.Directories)]+[row.Directories])\n",
    "                if (rownum % 100 == 0):\n",
    "                    print(\"processed %d files\" % (rownum+1))\n",
    "    elif encode==\"tf\":\n",
    "        np=[]\n",
    "        for rownum, row in enumerate(directorydf.itertuples()):\n",
    "            with codecs.open(row.Directories,\"r\" ,encoding='utf-8', errors='ignore') as myfile:\n",
    "                tempCounter = Counter([word for word in re.findall(r'\\w+', myfile.read())])\n",
    "                topkinDoc = [tempCounter[word] for (word,wordCount) in topk]\n",
    "                np.append(topkinDoc +[label_target(row.Directories)]+[row.Directories])\n",
    "                if (rownum % 100 == 0):\n",
    "                    print(\"processed %d files\" % (rownum+1))\n",
    "       \n",
    "    \n",
    "    \n",
    "    newsgroupdf = pd.DataFrame(np)\n",
    "    dfName = []\n",
    "    for c in topk:\n",
    "        dfName.append(c[0])\n",
    "    dfName\n",
    "    \n",
    "    data = pd.DataFrame(np)\n",
    "    data.columns = dfName+['target','label']\n",
    "    \n",
    "    ###########         end         ###########\n",
    "    return data"
   ]
  },
  {
   "cell_type": "code",
   "execution_count": 11,
   "metadata": {},
   "outputs": [
    {
     "name": "stdout",
     "output_type": "stream",
     "text": [
      "[nltk_data] Downloading package stopwords to C:\\Windows\\ServiceProfile\n",
      "[nltk_data]     s\\LocalService\\AppData\\Roaming\\nltk_data...\n",
      "[nltk_data]   Package stopwords is already up-to-date!\n",
      "processed 1 files\n",
      "processed 1 files\n",
      "processed 101 files\n"
     ]
    }
   ],
   "source": [
    "data = dataPreprocessor(k=100, fs='tf', encode='tf', directorydf=directorydf, size=None)"
   ]
  },
  {
   "cell_type": "code",
   "execution_count": 12,
   "metadata": {},
   "outputs": [
    {
     "name": "stdout",
     "output_type": "stream",
     "text": [
      "[nltk_data] Downloading package stopwords to C:\\Windows\\ServiceProfile\n",
      "[nltk_data]     s\\LocalService\\AppData\\Roaming\\nltk_data...\n",
      "[nltk_data]   Package stopwords is already up-to-date!\n",
      "processed 1 files\n",
      "processed 1 files\n",
      "processed 101 files\n"
     ]
    }
   ],
   "source": [
    "data2 = dataPreprocessor(k=500, fs='tf', encode='boolean', directorydf=directorydf, size=None)"
   ]
  },
  {
   "cell_type": "code",
   "execution_count": 13,
   "metadata": {},
   "outputs": [
    {
     "data": {
      "text/html": [
       "<div>\n",
       "<style>\n",
       "    .dataframe thead tr:only-child th {\n",
       "        text-align: right;\n",
       "    }\n",
       "\n",
       "    .dataframe thead th {\n",
       "        text-align: left;\n",
       "    }\n",
       "\n",
       "    .dataframe tbody tr th {\n",
       "        vertical-align: top;\n",
       "    }\n",
       "</style>\n",
       "<table border=\"1\" class=\"dataframe\">\n",
       "  <thead>\n",
       "    <tr style=\"text-align: right;\">\n",
       "      <th></th>\n",
       "      <th>edu</th>\n",
       "      <th>x</th>\n",
       "      <th>cmu</th>\n",
       "      <th>cs</th>\n",
       "      <th>com</th>\n",
       "      <th>news</th>\n",
       "      <th>srv</th>\n",
       "      <th>1</th>\n",
       "      <th>net</th>\n",
       "      <th>cantaloupe</th>\n",
       "      <th>...</th>\n",
       "      <th>approved</th>\n",
       "      <th>call</th>\n",
       "      <th>michael</th>\n",
       "      <th>future</th>\n",
       "      <th>words</th>\n",
       "      <th>method</th>\n",
       "      <th>nice</th>\n",
       "      <th>1993apr15</th>\n",
       "      <th>target</th>\n",
       "      <th>label</th>\n",
       "    </tr>\n",
       "  </thead>\n",
       "  <tbody>\n",
       "    <tr>\n",
       "      <th>0</th>\n",
       "      <td>1</td>\n",
       "      <td>0</td>\n",
       "      <td>1</td>\n",
       "      <td>1</td>\n",
       "      <td>1</td>\n",
       "      <td>1</td>\n",
       "      <td>1</td>\n",
       "      <td>1</td>\n",
       "      <td>1</td>\n",
       "      <td>1</td>\n",
       "      <td>...</td>\n",
       "      <td>0</td>\n",
       "      <td>1</td>\n",
       "      <td>0</td>\n",
       "      <td>1</td>\n",
       "      <td>1</td>\n",
       "      <td>0</td>\n",
       "      <td>0</td>\n",
       "      <td>0</td>\n",
       "      <td>0</td>\n",
       "      <td>20_newsgroups\\alt.atheism\\51060</td>\n",
       "    </tr>\n",
       "    <tr>\n",
       "      <th>1</th>\n",
       "      <td>1</td>\n",
       "      <td>0</td>\n",
       "      <td>1</td>\n",
       "      <td>1</td>\n",
       "      <td>1</td>\n",
       "      <td>1</td>\n",
       "      <td>1</td>\n",
       "      <td>0</td>\n",
       "      <td>1</td>\n",
       "      <td>1</td>\n",
       "      <td>...</td>\n",
       "      <td>0</td>\n",
       "      <td>0</td>\n",
       "      <td>0</td>\n",
       "      <td>1</td>\n",
       "      <td>0</td>\n",
       "      <td>0</td>\n",
       "      <td>0</td>\n",
       "      <td>0</td>\n",
       "      <td>0</td>\n",
       "      <td>20_newsgroups\\alt.atheism\\51218</td>\n",
       "    </tr>\n",
       "    <tr>\n",
       "      <th>2</th>\n",
       "      <td>1</td>\n",
       "      <td>0</td>\n",
       "      <td>1</td>\n",
       "      <td>1</td>\n",
       "      <td>1</td>\n",
       "      <td>1</td>\n",
       "      <td>1</td>\n",
       "      <td>0</td>\n",
       "      <td>1</td>\n",
       "      <td>1</td>\n",
       "      <td>...</td>\n",
       "      <td>0</td>\n",
       "      <td>0</td>\n",
       "      <td>0</td>\n",
       "      <td>0</td>\n",
       "      <td>1</td>\n",
       "      <td>0</td>\n",
       "      <td>0</td>\n",
       "      <td>0</td>\n",
       "      <td>0</td>\n",
       "      <td>20_newsgroups\\alt.atheism\\51319</td>\n",
       "    </tr>\n",
       "    <tr>\n",
       "      <th>3</th>\n",
       "      <td>1</td>\n",
       "      <td>0</td>\n",
       "      <td>1</td>\n",
       "      <td>1</td>\n",
       "      <td>1</td>\n",
       "      <td>1</td>\n",
       "      <td>1</td>\n",
       "      <td>0</td>\n",
       "      <td>1</td>\n",
       "      <td>1</td>\n",
       "      <td>...</td>\n",
       "      <td>0</td>\n",
       "      <td>0</td>\n",
       "      <td>0</td>\n",
       "      <td>0</td>\n",
       "      <td>0</td>\n",
       "      <td>0</td>\n",
       "      <td>0</td>\n",
       "      <td>0</td>\n",
       "      <td>0</td>\n",
       "      <td>20_newsgroups\\alt.atheism\\53150</td>\n",
       "    </tr>\n",
       "    <tr>\n",
       "      <th>4</th>\n",
       "      <td>1</td>\n",
       "      <td>0</td>\n",
       "      <td>1</td>\n",
       "      <td>1</td>\n",
       "      <td>1</td>\n",
       "      <td>1</td>\n",
       "      <td>1</td>\n",
       "      <td>1</td>\n",
       "      <td>1</td>\n",
       "      <td>1</td>\n",
       "      <td>...</td>\n",
       "      <td>0</td>\n",
       "      <td>0</td>\n",
       "      <td>0</td>\n",
       "      <td>0</td>\n",
       "      <td>0</td>\n",
       "      <td>0</td>\n",
       "      <td>0</td>\n",
       "      <td>0</td>\n",
       "      <td>0</td>\n",
       "      <td>20_newsgroups\\alt.atheism\\53250</td>\n",
       "    </tr>\n",
       "  </tbody>\n",
       "</table>\n",
       "<p>5 rows × 502 columns</p>\n",
       "</div>"
      ],
      "text/plain": [
       "   edu  x  cmu  cs  com  news  srv  1  net  cantaloupe  \\\n",
       "0    1  0    1   1    1     1    1  1    1           1   \n",
       "1    1  0    1   1    1     1    1  0    1           1   \n",
       "2    1  0    1   1    1     1    1  0    1           1   \n",
       "3    1  0    1   1    1     1    1  0    1           1   \n",
       "4    1  0    1   1    1     1    1  1    1           1   \n",
       "\n",
       "                ...                 approved  call  michael  future  words  \\\n",
       "0               ...                        0     1        0       1      1   \n",
       "1               ...                        0     0        0       1      0   \n",
       "2               ...                        0     0        0       0      1   \n",
       "3               ...                        0     0        0       0      0   \n",
       "4               ...                        0     0        0       0      0   \n",
       "\n",
       "   method  nice  1993apr15  target                            label  \n",
       "0       0     0          0       0  20_newsgroups\\alt.atheism\\51060  \n",
       "1       0     0          0       0  20_newsgroups\\alt.atheism\\51218  \n",
       "2       0     0          0       0  20_newsgroups\\alt.atheism\\51319  \n",
       "3       0     0          0       0  20_newsgroups\\alt.atheism\\53150  \n",
       "4       0     0          0       0  20_newsgroups\\alt.atheism\\53250  \n",
       "\n",
       "[5 rows x 502 columns]"
      ]
     },
     "execution_count": 13,
     "metadata": {},
     "output_type": "execute_result"
    }
   ],
   "source": [
    "data2.head()"
   ]
  },
  {
   "cell_type": "code",
   "execution_count": null,
   "metadata": {
    "collapsed": true
   },
   "outputs": [],
   "source": []
  },
  {
   "cell_type": "markdown",
   "metadata": {},
   "source": [
    "### (c)"
   ]
  },
  {
   "cell_type": "code",
   "execution_count": 14,
   "metadata": {
    "collapsed": true
   },
   "outputs": [],
   "source": [
    "#Confidence Interval Function\n",
    "import scipy.stats\n",
    "from math import sqrt\n",
    "def mean_confidence_interval(data, confidence=0.95):\n",
    "    a = 1.0*np.array(data)\n",
    "    n = len(a)\n",
    "    mu,sd = np.mean(a),np.std(a)\n",
    "    z = stats.t.ppf(confidence, n)\n",
    "    h=z*sd/sqrt(n)\n",
    "    return mu, h"
   ]
  },
  {
   "cell_type": "code",
   "execution_count": 15,
   "metadata": {
    "collapsed": true
   },
   "outputs": [],
   "source": [
    "def randomSplitCI(data, clf, num_run, **params):\n",
    "    \"\"\"\n",
    "    INPUT\n",
    "        data: 2D numpy array. Pre-processed data\n",
    "        clf: string. Name of the classifier from ['LR', 'SVM', 'NB']\n",
    "        num_run: int. How many times you want to run for random evaluation?\n",
    "        params: string->real. Hyper-parameter of classifier. PS: c=1.0, r=0.01\n",
    "   \n",
    "    OUTPUT\n",
    "        train_scores: list. Results of trails\n",
    "        test_scores: list. Results of trails\n",
    "        train_mean: scalar. Average accuracy\n",
    "        test_mean: scalar. Average accuracy\n",
    "        train_ci: scalar. Confidence Interval\n",
    "        test_ci: scalar. Confidence Interval\n",
    "    \"\"\"\n",
    "    #?????????????????????????????????????????????????????????????????????????????????????????????????????????\n",
    "    ########### your code goes here ###########\n",
    "    # select feature attributes from pandas and convert into numpy array\n",
    "    df1 = data.drop(['target', 'label'], axis=1)\n",
    "    features_df= df1.iloc[:,:]\n",
    "    features = features_df.as_matrix()\n",
    "\n",
    "    # select target attribute from pandas and convert into numpy array\n",
    "    target_df = data['target']\n",
    "    target = target_df.as_matrix()\n",
    "    labels = data['target'].unique()\n",
    "\n",
    "    # <help:scikit_cross_validation>\n",
    "    # use log reg classifier\n",
    "    train_scores=[]\n",
    "    test_scores=[]\n",
    "    \n",
    "    #????? params[\"c\"]=c\n",
    "    if clf== \"LR\":\n",
    "        clf = LogisticRegression(C=params[\"c\"])\n",
    "    elif clf==\"NB\":\n",
    "        clf = GaussianNB()\n",
    "    elif clf==\"SVM\":\n",
    "        clf=SVC() \n",
    "        \n",
    "    cv = StratifiedKFold(target, n_folds= num_run)\n",
    "    for i, (train, test) in enumerate(cv):\n",
    "    # train then immediately predict the test set\n",
    "        clfModel = clf.fit(features[train], target[train])\n",
    "        target_pred_test = clfModel.predict(features[test])\n",
    "    # stash the overall accuracy on the test set for the fold too\n",
    "        test_scores.append(metrics.accuracy_score(target[test], target_pred_test))\n",
    "        target_pred_train = clfModel.predict(features[train])\n",
    "    # stash the overall accuracy on the test set for the fold too\n",
    "        train_scores.append(metrics.accuracy_score(target[train], target_pred_train))\n",
    "    train_ci=mean_confidence_interval(train_scores, confidence=0.95)[1]\n",
    "    test_ci=mean_confidence_interval(test_scores, confidence=0.95)[1]\n",
    "    test_mean= mean_confidence_interval(test_scores, confidence=0.95)[0]\n",
    "    train_mean= mean_confidence_interval(train_scores, confidence=0.95)[0]\n",
    "                    \n",
    "                       \n",
    "    ###########         end         ###########\n",
    "    return train_scores,test_scores,train_mean,test_mean,train_ci,test_ci\n",
    "    "
   ]
  },
  {
   "cell_type": "code",
   "execution_count": 16,
   "metadata": {},
   "outputs": [
    {
     "name": "stdout",
     "output_type": "stream",
     "text": [
      "Train    \n",
      "Result of trails:[0.99444444444444446, 0.99444444444444446, 0.99444444444444446, 0.99444444444444446, 0.99444444444444446, 1.0, 1.0, 1.0, 0.99444444444444446, 0.99444444444444446]     \n",
      "Average Accuracy: 0.9961111111111112     \n",
      "Confidence Interval: 0.001459169831581765\n",
      "\n",
      "Test    \n",
      "Result of trails:[0.59999999999999998, 0.29999999999999999, 0.34999999999999998, 0.5, 0.40000000000000002, 0.25, 0.45000000000000001, 0.45000000000000001, 0.5, 0.45000000000000001]     \n",
      "Average Accuracy: 0.425     \n",
      "Confidence Interval: 0.05623012757531839\n"
     ]
    }
   ],
   "source": [
    "train_scores,test_scores,train_mean,test_mean,train_ci,test_ci = randomSplitCI(data, 'LR', 10, c=1.0)\n",
    "print(\"Train\\\n",
    "    \\nResult of trails:{0} \\\n",
    "    \\nAverage Accuracy: {1} \\\n",
    "    \\nConfidence Interval: {2}\\n\".format(train_scores, train_mean, train_ci)\n",
    "     )\n",
    "print(\"Test\\\n",
    "    \\nResult of trails:{0} \\\n",
    "    \\nAverage Accuracy: {1} \\\n",
    "    \\nConfidence Interval: {2}\".format(test_scores, test_mean, test_ci)\n",
    "     )"
   ]
  },
  {
   "cell_type": "markdown",
   "metadata": {},
   "source": [
    "We used sixty percent of the dataset for training our model in 10 randomized iteration.\n",
    "By comparing accuracy for both trainig and testing data set, we see that accuracy did not change significantly in each iteration. Also, the small confidence interval shows that the model has stable accuracy and has the stable performance for different dataset in the same distribution. "
   ]
  },
  {
   "cell_type": "markdown",
   "metadata": {},
   "source": [
    "### (d)"
   ]
  },
  {
   "cell_type": "markdown",
   "metadata": {
    "collapsed": true
   },
   "source": [
    "Yes, they are more informative. 95 percent confidence interval tells us that we are 95% confident that the mean accuracy for testing data set is between 47.74% +_ 3.18e-15 which is almost 47.7%. \n",
    "Testing 10 iteration, tells us how good is our model for 10 randomized dataset in the same distribution."
   ]
  },
  {
   "cell_type": "markdown",
   "metadata": {},
   "source": [
    "### (e)"
   ]
  },
  {
   "cell_type": "code",
   "execution_count": 17,
   "metadata": {},
   "outputs": [],
   "source": [
    "def randomSplitCM(data, clf, num_run, **params):\n",
    "    \"\"\"\n",
    "    INPUT\n",
    "        data: Dataframe. Pre-processed data\n",
    "        clf: string. Name of the classifier from ['LR', 'SVM', 'NB']\n",
    "        params: string->real. Hyper-parameter of classifier. PS: c=1.0, r=0.01\n",
    "    \n",
    "    OUTPUT\n",
    "        cm: pandas.DataFrame. Confusion Matrix\n",
    "    \"\"\"\n",
    "    \n",
    "    ########### your code goes here ###########\n",
    "    df1 = data.drop(['target', 'label'], axis=1)\n",
    "    features_df= df1.iloc[:, :]\n",
    "    #features_df= data[[\"the\", \"edu\", \"a\"]]\n",
    "    features = features_df.as_matrix()\n",
    "\n",
    "\n",
    "    # select target attribute from pandas and convert into numpy array\n",
    "    target_df = data['target']\n",
    "    target = target_df.as_matrix()\n",
    "    target\n",
    "    labels = data['target'].unique()\n",
    "\n",
    "    # <help:scikit_cross_validation>\n",
    "    # use log reg classifier\n",
    "    train_scores=[]\n",
    "    test_scores=[]\n",
    "    if clf== \"LR\":\n",
    "        clf = LogisticRegression(C=params[\"c\"])\n",
    "    elif clf ==\"NB\":\n",
    "        clf = GaussianNB()\n",
    "    elif clf==\"SVM\":\n",
    "        clf=SVC()\n",
    "    cms={}\n",
    "    scores   = []\n",
    "    cv = StratifiedKFold(target, n_folds=num_run)\n",
    "    for i, (train, test) in enumerate(cv):\n",
    "           \n",
    "     \n",
    "    # train then immediately predict the test set\n",
    "        clfModel = clf.fit(features[train], target[train])\n",
    "        target_pred = clfModel.predict(features[test])\n",
    "    # compute the confusion matrix on each fold, convert it to a DataFrame and stash it for later compute\n",
    "        cms[i] = pd.DataFrame(metrics.confusion_matrix(target[test], target_pred), columns=labels, index=labels)\n",
    "    # stash the overall accuracy on the test set for the fold too\n",
    "        scores.append(metrics.accuracy_score(target[test], target_pred))\n",
    "\n",
    "# Panel of all test set confusion matrices\n",
    "    pl = pd.Panel(cms)\n",
    "    cm = pl.sum(axis=0) #Sum the confusion matrices to get one view of how well the classifiers perform\n",
    "    cm\n",
    "    \n",
    "    ###########         end         ###########\n",
    "    return cm "
   ]
  },
  {
   "cell_type": "code",
   "execution_count": 18,
   "metadata": {
    "scrolled": true
   },
   "outputs": [
    {
     "name": "stderr",
     "output_type": "stream",
     "text": [
      "C:\\Anaconda\\envs\\py35\\lib\\site-packages\\ipykernel\\__main__.py:1: DeprecationWarning: \n",
      "Panel is deprecated and will be removed in a future version.\n",
      "The recommended way to represent these types of 3-dimensional data are with a MultiIndex on a DataFrame, via the Panel.to_frame() method\n",
      "Alternatively, you can use the xarray package http://xarray.pydata.org/en/stable/.\n",
      "Pandas provides a `.to_xarray()` method to help automate this conversion.\n",
      "\n",
      "  if __name__ == '__main__':\n"
     ]
    },
    {
     "name": "stdout",
     "output_type": "stream",
     "text": [
      "    0   1   2   3   4   5   6   7   8   9   10  11  12  13  14  15  16  17  \\\n",
      "0    4   1   1   1   0   0   0   0   0   1   0   0   0   1   0   0   0   0   \n",
      "1    1   3   2   1   1   0   0   0   0   1   0   0   1   0   0   0   0   0   \n",
      "2    0   1   2   1   2   0   1   1   0   0   0   0   0   1   0   0   1   0   \n",
      "3    0   2   1   2   1   0   0   0   1   1   1   1   0   0   0   0   0   0   \n",
      "4    0   1   1   1   3   0   0   0   0   1   1   0   0   1   0   0   1   0   \n",
      "5    0   1   0   1   1   6   0   0   0   0   0   0   1   0   0   0   0   0   \n",
      "6    0   0   2   0   0   0   5   1   0   0   0   0   1   0   1   0   0   0   \n",
      "7    0   1   0   0   0   0   0   6   0   1   2   0   0   0   0   0   0   0   \n",
      "8    0   1   1   0   0   0   0   2   3   2   0   0   1   0   0   0   0   0   \n",
      "9    1   1   0   0   1   0   0   0   1   2   1   0   1   1   0   0   1   0   \n",
      "10   0   0   0   1   1   0   0   0   5   0   2   0   0   0   1   0   0   0   \n",
      "11   0   0   1   0   0   0   0   1   0   0   0   6   0   1   1   0   0   0   \n",
      "12   0   0   0   0   1   0   0   2   0   1   0   0   3   1   2   0   0   0   \n",
      "13   1   0   0   0   0   0   0   0   1   0   1   2   0   3   0   0   0   2   \n",
      "14   0   0   1   0   0   0   0   1   0   0   0   1   2   0   5   0   0   0   \n",
      "15   0   0   0   0   0   0   0   0   0   0   0   1   0   0   0   9   0   0   \n",
      "16   1   0   0   0   0   0   0   0   0   1   0   0   0   0   0   0   5   1   \n",
      "17   0   0   0   0   0   0   0   0   0   1   0   0   0   0   0   0   1   7   \n",
      "18   0   0   0   1   0   0   1   0   0   0   0   0   0   0   0   1   1   0   \n",
      "19   2   0   1   1   0   0   0   0   0   0   0   0   0   0   0   0   1   0   \n",
      "\n",
      "    18  19  \n",
      "0    0   1  \n",
      "1    0   0  \n",
      "2    0   0  \n",
      "3    0   0  \n",
      "4    0   0  \n",
      "5    0   0  \n",
      "6    0   0  \n",
      "7    0   0  \n",
      "8    0   0  \n",
      "9    0   0  \n",
      "10   0   0  \n",
      "11   0   0  \n",
      "12   0   0  \n",
      "13   0   0  \n",
      "14   0   0  \n",
      "15   0   0  \n",
      "16   1   1  \n",
      "17   1   0  \n",
      "18   5   1  \n",
      "19   1   4  \n"
     ]
    }
   ],
   "source": [
    "cm = randomSplitCM(data, 'LR', 10, c=1.0)\n",
    "print (cm)"
   ]
  },
  {
   "cell_type": "code",
   "execution_count": 19,
   "metadata": {},
   "outputs": [
    {
     "name": "stderr",
     "output_type": "stream",
     "text": [
      "C:\\Anaconda\\envs\\py35\\lib\\site-packages\\ipykernel\\__main__.py:1: DeprecationWarning: \n",
      "Panel is deprecated and will be removed in a future version.\n",
      "The recommended way to represent these types of 3-dimensional data are with a MultiIndex on a DataFrame, via the Panel.to_frame() method\n",
      "Alternatively, you can use the xarray package http://xarray.pydata.org/en/stable/.\n",
      "Pandas provides a `.to_xarray()` method to help automate this conversion.\n",
      "\n",
      "  if __name__ == '__main__':\n"
     ]
    }
   ],
   "source": [
    "cm = randomSplitCM(data2, 'LR', 10, c=1.0)\n",
    "#print (cm)"
   ]
  },
  {
   "cell_type": "markdown",
   "metadata": {},
   "source": [
    "### (f)"
   ]
  },
  {
   "cell_type": "code",
   "execution_count": 20,
   "metadata": {},
   "outputs": [
    {
     "data": {
      "text/plain": [
       "<matplotlib.axes._subplots.AxesSubplot at 0x1c505f62e10>"
      ]
     },
     "execution_count": 20,
     "metadata": {},
     "output_type": "execute_result"
    },
    {
     "data": {
      "image/png": "[encoded data removed]",
      "text/plain": [
       "<matplotlib.figure.Figure at 0x1c505f42e80>"
      ]
     },
     "metadata": {},
     "output_type": "display_data"
    }
   ],
   "source": [
    "sns.heatmap(cm)"
   ]
  },
  {
   "cell_type": "code",
   "execution_count": 21,
   "metadata": {},
   "outputs": [
    {
     "name": "stderr",
     "output_type": "stream",
     "text": [
      "C:\\Anaconda\\envs\\py35\\lib\\site-packages\\ipykernel\\__main__.py:1: DeprecationWarning: \n",
      "Panel is deprecated and will be removed in a future version.\n",
      "The recommended way to represent these types of 3-dimensional data are with a MultiIndex on a DataFrame, via the Panel.to_frame() method\n",
      "Alternatively, you can use the xarray package http://xarray.pydata.org/en/stable/.\n",
      "Pandas provides a `.to_xarray()` method to help automate this conversion.\n",
      "\n",
      "  if __name__ == '__main__':\n"
     ]
    },
    {
     "data": {
      "text/plain": [
       "<matplotlib.axes._subplots.AxesSubplot at 0x1c505f57cf8>"
      ]
     },
     "execution_count": 21,
     "metadata": {},
     "output_type": "execute_result"
    },
    {
     "data": {
      "image/png": "[encoded data removed]",
      "text/plain": [
       "<matplotlib.figure.Figure at 0x1c505f49390>"
      ]
     },
     "metadata": {},
     "output_type": "display_data"
    }
   ],
   "source": [
    "cm2 = randomSplitCM(data2, 'LR', 10, c=1.0)\n",
    "sns.heatmap(cm2)"
   ]
  },
  {
   "cell_type": "markdown",
   "metadata": {},
   "source": [
    "Term Frequency feature encoding:\n",
    "( 9 and 7) , (3 and 4), ( 1 and 3) are examples of classes that get confused with each other.\n",
    "For example in class three, only three documents predicted right, while 5 documents that were in class three predicted as class 4 wrongly. Vice versa, 11 documents predicted as class three while they were class 4. Only three documents predicted for class four right. \n",
    "For this part, I tested my code for 2,000 documents!\n",
    "\n",
    "Boolean:\n",
    "Document 7 and 8 are examples of classes that get confused with each other"
   ]
  },
  {
   "cell_type": "code",
   "execution_count": 22,
   "metadata": {
    "collapsed": true
   },
   "outputs": [],
   "source": [
    "#features_df= data.ix[:, (x for x in range(len(data.columns)-2))]\n",
    "##Using DataFrame.drop\n",
    " #   df.drop(df.columns[[1, 2]], axis=1, inplace=True)\n",
    "\n",
    "    # drop by Name\n",
    "  #  df1 = df1.drop(['B', 'C'], axis=1)\n",
    "#feature_precentage = np.linspace(0.1, 1, 10, endpoint=True)\n",
    "#features_df= data.ix[:, (x for x in range(len(data.columns)-2))]\n",
    "#print (features_df)\n",
    "#len(features_df.columns)*feature_precentage"
   ]
  },
  {
   "cell_type": "code",
   "execution_count": 23,
   "metadata": {
    "collapsed": true
   },
   "outputs": [],
   "source": [
    "#df1 = data.drop(['target', 'label'], axis=1)\n",
    "#features_df= df1.ix[:, (x for x in range(len(df1.columns)))]\n",
    "#features_df= df1.iloc[:, :]\n",
    "#feature_count= len(features_df.columns)*feature_precentage\n",
    "\n",
    "#int_feature_count=[]\n",
    "#for i in feature_count:\n",
    " #   int_feature_count.append(int(i))\n",
    "  "
   ]
  },
  {
   "cell_type": "markdown",
   "metadata": {},
   "source": [
    "## Q2"
   ]
  },
  {
   "cell_type": "markdown",
   "metadata": {},
   "source": [
    "### (a)"
   ]
  },
  {
   "cell_type": "code",
   "execution_count": 24,
   "metadata": {
    "collapsed": true
   },
   "outputs": [],
   "source": [
    "def featureSizeAC(data, clf, num_run, **params):\n",
    "    \"\"\"\n",
    "    INPUT\n",
    "        data: Dataframe. Pre-processed data\n",
    "        clf: string. Name of the classifier from ['LR', 'SVM', 'NB']\n",
    "        params: string->real. Hyper-parameter of classifier. PS: c=1.0, r=0.01\n",
    "    \n",
    "    OUTPUT\n",
    "        train_mean_fs: list.\n",
    "        train_ci_fs: list.\n",
    "        test_mean_fs: list.\n",
    "        test_ci_fs: list.\n",
    "        \n",
    "    \"\"\"\n",
    "    feature_precentage = np.linspace(0.1, 1, 10, endpoint=True)\n",
    "    \n",
    "    \n",
    "    ########### your code goes here ###########\n",
    "    train_ci_fs=[]\n",
    "    test_ci_fs=[]\n",
    "    train_mean_fs=[]\n",
    "    test_mean_fs=[]\n",
    "    \n",
    "    #cms= {}\n",
    "    df1 = data.drop(['target', 'label'], axis=1)\n",
    "    #features_df= df1.ix[:, (x for x in range(len(df1.columns)))]\n",
    "    feature_count= len(df1.columns)*feature_precentage\n",
    "    int_feature_count=[]\n",
    "    \n",
    "    for i in feature_count:\n",
    "        int_feature_count.append(int(i))\n",
    "    \n",
    "    for i in int_feature_count:\n",
    "        features_df= df1.iloc[:, 0:i]  \n",
    "        features = features_df.as_matrix()\n",
    "        \n",
    "    # select target attribute from pandas and convert into numpy array\n",
    "        target_df = data['target']\n",
    "        target = target_df.as_matrix()\n",
    "    # <help:scikit_cross_validation>\n",
    "    # use log reg classifier\n",
    "        if clf==\"LR\":\n",
    "            clf = LogisticRegression(C=params[\"c\"])\n",
    "        elif clf ==\"NB\":\n",
    "            clf=GaussianNB()\n",
    "        elif clf==\"SVM\":\n",
    "            clf=SVC()      \n",
    "        \n",
    "        \n",
    "        cv = StratifiedKFold(target, n_folds= num_run)\n",
    "        for i, (train, test) in enumerate(cv):\n",
    "    # train then immediately predict the test set\n",
    "            clfModel = clf.fit(features[train], target[train])\n",
    "            target_pred_test = clfModel.predict(features[test])\n",
    "    # stash the overall accuracy on the test set for the fold too\n",
    "            test_scores.append(metrics.accuracy_score(target[test], target_pred_test))\n",
    "            target_pred_train = clfModel.predict(features[train])\n",
    "    # stash the overall accuracy on the test set for the fold too\n",
    "            train_scores.append(metrics.accuracy_score(target[train], target_pred_train))\n",
    "        train_ci_fs.append(mean_confidence_interval(train_scores, confidence=0.95)[1])\n",
    "        test_ci_fs.append(mean_confidence_interval(test_scores, confidence=0.95)[1])\n",
    "        test_mean_fs.append(mean_confidence_interval(test_scores, confidence=0.95)[0])\n",
    "        train_mean_fs.append(mean_confidence_interval(train_scores, confidence=0.95)[0])\n",
    "    \n",
    "      ###########         end         ###########\n",
    "    return train_mean_fs, train_ci_fs, test_mean_fs, test_ci_fs"
   ]
  },
  {
   "cell_type": "code",
   "execution_count": 25,
   "metadata": {},
   "outputs": [
    {
     "name": "stdout",
     "output_type": "stream",
     "text": [
      "[0.6527777777777779, 0.56925925925925935, 0.57152777777777775, 0.61722222222222223, 0.66324074074074069, 0.70531746031746023, 0.7401388888888889, 0.76783950617283947, 0.79038888888888892, 0.80909090909090886] [0.13251190250378297, 0.094430186996957099, 0.070308565175766544, 0.060056799853019364, 0.054609232383434764, 0.051021710563311028, 0.047752767771682858, 0.044559938931204399, 0.041607163565188156, 0.038933125426234137] [0.27250000000000002, 0.22666666666666666, 0.21375000000000002, 0.22500000000000001, 0.23833333333333334, 0.26142857142857134, 0.28062500000000001, 0.29666666666666663, 0.312, 0.32227272727272738] [0.068032155480772627, 0.051501192489662388, 0.039488404243228567, 0.03225845098240402, 0.028488704533459863, 0.028033318494180559, 0.026901398253223994, 0.025547552925733682, 0.024628612354726472, 0.023425032343315937]\n"
     ]
    }
   ],
   "source": [
    "train_mean_fs, train_ci_fs, test_mean_fs, test_ci_fs = featureSizeAC(data, 'LR', 10, c=1.0)\n",
    "print (train_mean_fs, train_ci_fs, test_mean_fs, test_ci_fs)"
   ]
  },
  {
   "cell_type": "markdown",
   "metadata": {},
   "source": [
    "### (b)"
   ]
  },
  {
   "cell_type": "code",
   "execution_count": 26,
   "metadata": {
    "collapsed": true
   },
   "outputs": [],
   "source": [
    "def featureSizePlot(feature_size, train_mean_fs, train_ci_fs, test_mean_fs, test_ci_fs):\n",
    "    # First illustrate basic pyplot interface, using defaults where possible.\n",
    "    plt.figure()\n",
    "    test_curve=plt.errorbar(feature_size, test_mean_fs, color=sns.xkcd_rgb[\"pale red\"], yerr=test_ci_fs)\n",
    "    train_curve=plt.errorbar(feature_size, train_mean_fs,color=sns.xkcd_rgb[\"denim blue\"], yerr=train_ci_fs)\n",
    "    plt.legend([test_curve, train_curve], ['Test', 'Train'])\n",
    "    plt.xlabel('Feature Percentage')\n",
    "    plt.ylabel('Accuracy')\n",
    "    plt.title(\"Accuracy vs Feature Size\")\n",
    "    plt.show()"
   ]
  },
  {
   "cell_type": "code",
   "execution_count": 27,
   "metadata": {},
   "outputs": [
    {
     "data": {
      "image/png": "[encoded data removed]",
      "text/plain": [
       "<matplotlib.figure.Figure at 0x1c506275c50>"
      ]
     },
     "metadata": {},
     "output_type": "display_data"
    }
   ],
   "source": [
    "featureSizePlot(np.linspace(0.1, 1, 10, endpoint=True),train_mean_fs, train_ci_fs, test_mean_fs, test_ci_fs )"
   ]
  },
  {
   "cell_type": "markdown",
   "metadata": {},
   "source": [
    "The plot shows when we only have 20 features for 2000 dataset, the accuracy of train and test dataset is closer to each other; however, the value of accuracy is very low.\n",
    "By increasing the feature size to 60, accuracy increased in high rate. The accuracy for teasting dataset did not change much when we changed the feature size from 60 to 100; however its confidence interval decreased.\n",
    "In overal, we can observe that when feature size increases, the difference between accuracy of training data set and testing data also increase, which shows the model is not reliable with large feature size.\n"
   ]
  },
  {
   "cell_type": "markdown",
   "metadata": {},
   "source": [
    "## Q3"
   ]
  },
  {
   "cell_type": "code",
   "execution_count": 28,
   "metadata": {
    "collapsed": true
   },
   "outputs": [],
   "source": [
    "def hyperParameterAC(data, clf, num_run):\n",
    "    \"\"\"\n",
    "    INPUT\n",
    "        data: Dataframe. Pre-processed data\n",
    "        clf: string. Name of the classifier from ['LR', 'SVM', 'NB']\n",
    "    \n",
    "    OUTPUT\n",
    "        test_mean_hp: list.  mean accuracy list of test\n",
    "        test_ci_hp: list. confidence interval list of test\n",
    "        train_mean_hp: list. mean accuracy list of train\n",
    "        train_ci_hp: list. confidence interval list of train\n",
    "        \n",
    "    NOTE \n",
    "        randomSplitCI could be the sub-route of this function\n",
    "    \"\"\"\n",
    "    params = np.logspace(-4, 4, num=9)\n",
    "    #param_grid = {'C': params }\n",
    "    #clf = GridSearchCV(LogisticRegression(penalty='l2'), param_grid)\n",
    "    ########### your code goes here ###########\n",
    "    df1 = data.drop(['target', 'label'], axis=1)\n",
    "    features_df= df1.iloc[:, :]\n",
    "    features = features_df.as_matrix()\n",
    "    features[:10]\n",
    "\n",
    "    # select target attribute from pandas and convert into numpy array\n",
    "    target_df = data['target']\n",
    "    target = target_df.as_matrix()\n",
    "    target\n",
    "    labels = data['target'].unique()\n",
    "\n",
    "    # <help:scikit_cross_validation>\n",
    "    # use log reg classifier\n",
    "    \n",
    "    train_mean_hp=[]\n",
    "    train_ci_hp=[]\n",
    "    test_mean_hp=[]\n",
    "    test_ci_hp=[]\n",
    "\n",
    "    #cms= {}\n",
    "    \n",
    "    for i in params.tolist(): \n",
    "        if clf== \"LR\":\n",
    "            clf= LogisticRegression(C = i ,random_state = 42)\n",
    "        elif clf== \"NB\":\n",
    "            clf=GaussianNB(C = i ,random_state = 0)\n",
    "        elif clf== \"SVM\":   \n",
    "            clf=SVC(C = i ,random_state = 0)\n",
    "\n",
    "        cv = StratifiedKFold(target, n_folds= num_run)\n",
    "        for i, (train, test) in enumerate(cv):\n",
    "    # train then immediately predict the test set\n",
    "            clfModel = clf.fit(features[train], target[train])\n",
    "            target_pred_test = clfModel.predict(features[test])\n",
    "    # stash the overall accuracy on the test set for the fold too\n",
    "            test_scores.append(metrics.accuracy_score(target[test], target_pred_test))\n",
    "            target_pred_train = clfModel.predict(features[train])\n",
    "    # stash the overall accuracy on the test set for the fold too\n",
    "            train_scores.append(metrics.accuracy_score(target[train], target_pred_train))\n",
    "        train_ci_hp.append(mean_confidence_interval(train_scores, confidence=0.95)[1])\n",
    "        test_ci_hp.append(mean_confidence_interval(test_scores, confidence=0.95)[1])\n",
    "        test_mean_hp.append(mean_confidence_interval(test_scores, confidence=0.95)[0])\n",
    "        train_mean_hp.append(mean_confidence_interval(train_scores, confidence=0.95)[0])\n",
    "    #print (train_hp, test_hp)\n",
    "    ###########         end         ###########\n",
    "    return train_mean_hp, train_ci_hp, test_mean_hp, test_ci_hp"
   ]
  },
  {
   "cell_type": "code",
   "execution_count": 29,
   "metadata": {},
   "outputs": [
    {
     "name": "stdout",
     "output_type": "stream",
     "text": [
      "[0.7657870370370371, 0.72914529914529913, 0.69773809523809527, 0.67051851851851851, 0.64670138888888884, 0.62568627450980385, 0.6070061728395062, 0.59029239766081865, 0.57524999999999993] [0.041785329715242292, 0.042750623778147569, 0.042739703079457014, 0.042194792734013296, 0.041354063899844154, 0.040353781342225309, 0.039274880338120731, 0.03816651064227574, 0.037058810588523942] [0.31208333333333338, 0.3034615384615385, 0.29607142857142854, 0.28966666666666668, 0.2840625, 0.27911764705882353, 0.2747222222222222, 0.27078947368421052, 0.26724999999999999] [0.022123495612800168, 0.020924022443184229, 0.019827226902589239, 0.018827111951416193, 0.01791531081971668, 0.017082999834245004, 0.016321739322300743, 0.015623809379482248, 0.01498230660372738]\n"
     ]
    }
   ],
   "source": [
    "train_mean_hp, train_ci_hp, test_mean_hp, test_ci_hp = hyperParameterAC(data, 'LR', 10)\n",
    "print (train_mean_hp, train_ci_hp, test_mean_hp, test_ci_hp)"
   ]
  },
  {
   "cell_type": "code",
   "execution_count": 30,
   "metadata": {
    "collapsed": true
   },
   "outputs": [],
   "source": [
    "def hyperParameterPlot(params, train_mean_hp, train_ci_hp, test_mean_hp, test_ci_hp):\n",
    "    # First illustrate basic pyplot interface, using defaults where possible.\n",
    "    plt.figure()\n",
    "    test_curve=plt.errorbar(params, test_mean_hp, color=sns.xkcd_rgb[\"pale red\"], yerr=test_ci_hp)\n",
    "    train_curve=plt.errorbar(params, train_mean_hp,color=sns.xkcd_rgb[\"denim blue\"], yerr=train_ci_hp)\n",
    "    plt.legend([test_curve, train_curve], ['Test', 'Train'])\n",
    "    plt.xlabel('Parameter')\n",
    "    plt.xscale(\"log\")\n",
    "    plt.ylabel('Accuracy')\n",
    "    plt.title(\"Accuracy vs Parameters\")\n",
    "    plt.show()"
   ]
  },
  {
   "cell_type": "code",
   "execution_count": 31,
   "metadata": {},
   "outputs": [
    {
     "data": {
      "image/png": "[encoded data removed]",
      "text/plain": [
       "<matplotlib.figure.Figure at 0x1c50635d7b8>"
      ]
     },
     "metadata": {},
     "output_type": "display_data"
    }
   ],
   "source": [
    "hyperParameterPlot(np.logspace(-4, 4, num=9),train_mean_hp, train_ci_hp, test_mean_hp, test_ci_hp )"
   ]
  },
  {
   "cell_type": "markdown",
   "metadata": {},
   "source": [
    "## Q4"
   ]
  },
  {
   "cell_type": "markdown",
   "metadata": {},
   "source": [
    "### (a)"
   ]
  },
  {
   "cell_type": "code",
   "execution_count": 32,
   "metadata": {
    "collapsed": true
   },
   "outputs": [],
   "source": [
    "def dataSizeAC(data, clf, num_run):\n",
    "    \"\"\"\n",
    "    INPUT\n",
    "        data: Dataframe. Pre-processed data\n",
    "        clf: string. Name of the classifier from ['LR', 'SVM', 'NB']\n",
    "        params: string->real. Hyper-parameter of classifier. PS: c=1.0, r=0.01\n",
    "    \n",
    "    OUTPUT\n",
    "        test_mean_ds: list.  mean accuracy list of test\n",
    "        test_ci_ds: list. confidence interval list of test\n",
    "        train_mean_ds: list. mean accuracy list of train\n",
    "        train_ci_ds: list. confidence interval list of train\n",
    "        \n",
    "        \n",
    "        \n",
    "    NOTE \n",
    "        randomSplitCI could be the sub-route of this function\n",
    "    \"\"\"\n",
    "    data_precentage = np.linspace(0.1, 1, 10, endpoint=True)\n",
    "    \n",
    "    ########### your code goes here ###########\n",
    "    from sklearn.utils import shuffle\n",
    "    \n",
    "    if clf==\"LR\":\n",
    "        clf = LogisticRegression()\n",
    "    elif clf ==\"NB\":\n",
    "        clf=GaussianNB()\n",
    "    elif clf==\"SVM\":\n",
    "        clf=SVC()\n",
    "        \n",
    "    train_mean_ds=[]\n",
    "    train_ci_ds =[]\n",
    "    test_mean_ds=[]\n",
    "    test_ci_ds=[]\n",
    "    train_ds=[]\n",
    "    test_ds=[]\n",
    "    \n",
    "    df1 = data.drop(['target', 'label'], axis=1)\n",
    "    features_df= df1.iloc[:, :]  \n",
    "    features = features_df.as_matrix()\n",
    "   \n",
    "    # select target attribute from pandas and convert into numpy array\n",
    "    target_df = data['target']\n",
    "    target = target_df.as_matrix()\n",
    "    labels = data['target'].unique()\n",
    "    \n",
    "    \n",
    "    features_train, features_test, target_train, target_test = train_test_split(features, target, test_size=0.3, random_state=42) \n",
    "    for i in data_precentage:\n",
    "        for j in range(1, num_run+1):\n",
    "            features_train2, features_test2, target_train2, target_test2 = train_test_split(features_train, target_train, test_size=1-i, random_state=42) \n",
    "            clfModel = clf.fit(features_train2, target_train2)\n",
    "    # predict target with feature test set using trained model\n",
    "            target_pred_test = clfModel.predict(features_test)      \n",
    "        \n",
    "            test_scores.append(metrics.accuracy_score(target_test, target_pred_test))\n",
    "            target_pred_train = clfModel.predict(features_train2)\n",
    "    # stash the overall accuracy on the test set for the fold too\n",
    "            train_scores.append(metrics.accuracy_score(target_train2, target_pred_train))\n",
    "        train_ci_ds.append(mean_confidence_interval(train_scores, confidence=0.95)[1])\n",
    "        test_ci_ds.append(mean_confidence_interval(test_scores, confidence=0.95)[1])\n",
    "        test_mean_ds.append(mean_confidence_interval(test_scores, confidence=0.95)[0])\n",
    "        train_mean_ds.append(mean_confidence_interval(train_scores, confidence=0.95)[0])\n",
    "    ###########         end         ###########\n",
    "    return train_mean_ds, train_ci_ds, test_mean_ds, test_ci_ds"
   ]
  },
  {
   "cell_type": "code",
   "execution_count": 33,
   "metadata": {},
   "outputs": [
    {
     "name": "stdout",
     "output_type": "stream",
     "text": [
      "[0.58152709359605903, 0.58762135922330094, 0.59354066985645926, 0.59929245283018862, 0.60488372093023246, 0.61032110091743108, 0.61561085972850671, 0.62075892857142845, 0.6257709251101321, 0.6306521739130434] [0.036989341338443185, 0.036902291623773883, 0.036799694977347225, 0.036683352876694858, 0.036554864927336048, 0.036415654482099727, 0.036266990494422197, 0.036110006244359907, 0.035945715452550979, 0.035775026200688807] [0.26527093596059109, 0.26456310679611644, 0.26459330143540671, 0.26485849056603777, 0.26441860465116285, 0.26559633027522939, 0.26606334841628965, 0.26629464285714283, 0.26674008810572686, 0.26782608695652177] [0.01487837509082323, 0.014676036062671701, 0.014464465581348583, 0.014261092979538509, 0.014067410219940492, 0.013917767351072988, 0.013735167698615155, 0.013552221511934952, 0.013379038335309821, 0.013243837056797743]\n"
     ]
    }
   ],
   "source": [
    "train_mean_ds, train_ci_ds, test_mean_ds, test_ci_ds = dataSizeAC(data, 'LR', 3)\n",
    "print (train_mean_ds, train_ci_ds, test_mean_ds, test_ci_ds)"
   ]
  },
  {
   "cell_type": "markdown",
   "metadata": {},
   "source": [
    "### (b)"
   ]
  },
  {
   "cell_type": "code",
   "execution_count": 34,
   "metadata": {
    "collapsed": true
   },
   "outputs": [],
   "source": [
    "def dataSizePlot(datasize, train_mean_ds, train_ci_ds, test_mean_ds, test_ci_ds):\n",
    "    # First illustrate basic pyplot interface, using defaults where possible.\n",
    "    plt.figure()\n",
    "    test_curve=plt.errorbar(datasize, test_mean_ds, color=sns.xkcd_rgb[\"pale red\"], yerr=test_ci_ds)\n",
    "    train_curve=plt.errorbar(datasize, train_mean_ds,color=sns.xkcd_rgb[\"denim blue\"], yerr=train_ci_ds)\n",
    "    plt.legend([test_curve, train_curve], ['Test', 'Train'])\n",
    "    plt.xlabel('Data Percentage')\n",
    "    plt.ylabel('Accuracy')\n",
    "    plt.title(\"Accuracy vs Data Percentage\")\n",
    "    plt.show()"
   ]
  },
  {
   "cell_type": "code",
   "execution_count": 35,
   "metadata": {},
   "outputs": [
    {
     "data": {
      "image/png": "[encoded data removed]",
      "text/plain": [
       "<matplotlib.figure.Figure at 0x1c5064c8780>"
      ]
     },
     "metadata": {},
     "output_type": "display_data"
    }
   ],
   "source": [
    "dataSizePlot(np.linspace(0.1, 1, 10, endpoint=True),train_mean_ds, train_ci_ds, test_mean_ds, test_ci_ds)"
   ]
  },
  {
   "cell_type": "markdown",
   "metadata": {},
   "source": [
    "## Q5"
   ]
  },
  {
   "cell_type": "markdown",
   "metadata": {},
   "source": [
    "### (a)"
   ]
  },
  {
   "cell_type": "code",
   "execution_count": 36,
   "metadata": {},
   "outputs": [
    {
     "data": {
      "text/html": [
       "<div>\n",
       "<style>\n",
       "    .dataframe thead tr:only-child th {\n",
       "        text-align: right;\n",
       "    }\n",
       "\n",
       "    .dataframe thead th {\n",
       "        text-align: left;\n",
       "    }\n",
       "\n",
       "    .dataframe tbody tr th {\n",
       "        vertical-align: top;\n",
       "    }\n",
       "</style>\n",
       "<table border=\"1\" class=\"dataframe\">\n",
       "  <thead>\n",
       "    <tr style=\"text-align: right;\">\n",
       "      <th></th>\n",
       "      <th>edu</th>\n",
       "      <th>x</th>\n",
       "      <th>cmu</th>\n",
       "      <th>cs</th>\n",
       "      <th>com</th>\n",
       "      <th>news</th>\n",
       "      <th>srv</th>\n",
       "      <th>1</th>\n",
       "      <th>net</th>\n",
       "      <th>cantaloupe</th>\n",
       "      <th>...</th>\n",
       "      <th>entry</th>\n",
       "      <th>us</th>\n",
       "      <th>mail</th>\n",
       "      <th>distribution</th>\n",
       "      <th>20</th>\n",
       "      <th>christian</th>\n",
       "      <th>printf</th>\n",
       "      <th>used</th>\n",
       "      <th>target</th>\n",
       "      <th>label</th>\n",
       "    </tr>\n",
       "  </thead>\n",
       "  <tbody>\n",
       "    <tr>\n",
       "      <th>0</th>\n",
       "      <td>5</td>\n",
       "      <td>0</td>\n",
       "      <td>4</td>\n",
       "      <td>3</td>\n",
       "      <td>1</td>\n",
       "      <td>3</td>\n",
       "      <td>3</td>\n",
       "      <td>1</td>\n",
       "      <td>1</td>\n",
       "      <td>2</td>\n",
       "      <td>...</td>\n",
       "      <td>0</td>\n",
       "      <td>1</td>\n",
       "      <td>1</td>\n",
       "      <td>0</td>\n",
       "      <td>0</td>\n",
       "      <td>0</td>\n",
       "      <td>0</td>\n",
       "      <td>5</td>\n",
       "      <td>0</td>\n",
       "      <td>20_newsgroups\\alt.atheism\\51060</td>\n",
       "    </tr>\n",
       "  </tbody>\n",
       "</table>\n",
       "<p>1 rows × 102 columns</p>\n",
       "</div>"
      ],
      "text/plain": [
       "   edu  x  cmu  cs  com  news  srv  1  net  cantaloupe  \\\n",
       "0    5  0    4   3    1     3    3  1    1           2   \n",
       "\n",
       "                ...                 entry  us  mail  distribution  20  \\\n",
       "0               ...                     0   1     1             0   0   \n",
       "\n",
       "   christian  printf  used  target                            label  \n",
       "0          0       0     5       0  20_newsgroups\\alt.atheism\\51060  \n",
       "\n",
       "[1 rows x 102 columns]"
      ]
     },
     "execution_count": 36,
     "metadata": {},
     "output_type": "execute_result"
    }
   ],
   "source": [
    "data.head(n=1)"
   ]
  },
  {
   "cell_type": "code",
   "execution_count": 37,
   "metadata": {},
   "outputs": [
    {
     "data": {
      "text/html": [
       "<div>\n",
       "<style>\n",
       "    .dataframe thead tr:only-child th {\n",
       "        text-align: right;\n",
       "    }\n",
       "\n",
       "    .dataframe thead th {\n",
       "        text-align: left;\n",
       "    }\n",
       "\n",
       "    .dataframe tbody tr th {\n",
       "        vertical-align: top;\n",
       "    }\n",
       "</style>\n",
       "<table border=\"1\" class=\"dataframe\">\n",
       "  <thead>\n",
       "    <tr style=\"text-align: right;\">\n",
       "      <th></th>\n",
       "      <th>edu</th>\n",
       "      <th>x</th>\n",
       "      <th>cmu</th>\n",
       "      <th>cs</th>\n",
       "      <th>com</th>\n",
       "      <th>news</th>\n",
       "      <th>srv</th>\n",
       "      <th>1</th>\n",
       "      <th>net</th>\n",
       "      <th>cantaloupe</th>\n",
       "      <th>...</th>\n",
       "      <th>approved</th>\n",
       "      <th>call</th>\n",
       "      <th>michael</th>\n",
       "      <th>future</th>\n",
       "      <th>words</th>\n",
       "      <th>method</th>\n",
       "      <th>nice</th>\n",
       "      <th>1993apr15</th>\n",
       "      <th>target</th>\n",
       "      <th>label</th>\n",
       "    </tr>\n",
       "  </thead>\n",
       "  <tbody>\n",
       "    <tr>\n",
       "      <th>0</th>\n",
       "      <td>1</td>\n",
       "      <td>0</td>\n",
       "      <td>1</td>\n",
       "      <td>1</td>\n",
       "      <td>1</td>\n",
       "      <td>1</td>\n",
       "      <td>1</td>\n",
       "      <td>1</td>\n",
       "      <td>1</td>\n",
       "      <td>1</td>\n",
       "      <td>...</td>\n",
       "      <td>0</td>\n",
       "      <td>1</td>\n",
       "      <td>0</td>\n",
       "      <td>1</td>\n",
       "      <td>1</td>\n",
       "      <td>0</td>\n",
       "      <td>0</td>\n",
       "      <td>0</td>\n",
       "      <td>0</td>\n",
       "      <td>20_newsgroups\\alt.atheism\\51060</td>\n",
       "    </tr>\n",
       "  </tbody>\n",
       "</table>\n",
       "<p>1 rows × 502 columns</p>\n",
       "</div>"
      ],
      "text/plain": [
       "   edu  x  cmu  cs  com  news  srv  1  net  cantaloupe  \\\n",
       "0    1  0    1   1    1     1    1  1    1           1   \n",
       "\n",
       "                ...                 approved  call  michael  future  words  \\\n",
       "0               ...                        0     1        0       1      1   \n",
       "\n",
       "   method  nice  1993apr15  target                            label  \n",
       "0       0     0          0       0  20_newsgroups\\alt.atheism\\51060  \n",
       "\n",
       "[1 rows x 502 columns]"
      ]
     },
     "execution_count": 37,
     "metadata": {},
     "output_type": "execute_result"
    }
   ],
   "source": [
    "data2.head(n=1)"
   ]
  },
  {
   "cell_type": "markdown",
   "metadata": {},
   "source": [
    "### (b)"
   ]
  },
  {
   "cell_type": "markdown",
   "metadata": {},
   "source": [
    "You should be able to get this answer easily by running dataPreprocessor fuction and randomSplitCI function"
   ]
  },
  {
   "cell_type": "code",
   "execution_count": 38,
   "metadata": {},
   "outputs": [
    {
     "name": "stdout",
     "output_type": "stream",
     "text": [
      "Train    \n",
      "Result of trails:[0.99444444444444446, 0.99444444444444446, 0.99444444444444446, 0.99444444444444446, 0.99444444444444446, 1.0, 1.0, 1.0, 0.99444444444444446, 0.99444444444444446]     \n",
      "Average Accuracy: 0.9961111111111112     \n",
      "Confidence Interval: 0.001459169831581765\n",
      "\n",
      "Test    \n",
      "Result of trails:[0.59999999999999998, 0.29999999999999999, 0.34999999999999998, 0.5, 0.40000000000000002, 0.25, 0.45000000000000001, 0.45000000000000001, 0.5, 0.45000000000000001]     \n",
      "Average Accuracy: 0.425     \n",
      "Confidence Interval: 0.05623012757531839\n"
     ]
    }
   ],
   "source": [
    "train_scores1,test_scores1,train_mean1,test_mean1,train_ci1,test_ci1 = randomSplitCI(data, 'LR', 10, c=1.0)\n",
    "print(\"Train\\\n",
    "    \\nResult of trails:{0} \\\n",
    "    \\nAverage Accuracy: {1} \\\n",
    "    \\nConfidence Interval: {2}\\n\".format(train_scores1, train_mean1, train_ci1)\n",
    "     )\n",
    "print(\"Test\\\n",
    "    \\nResult of trails:{0} \\\n",
    "    \\nAverage Accuracy: {1} \\\n",
    "    \\nConfidence Interval: {2}\".format(test_scores1, test_mean1, test_ci1)\n",
    "     )"
   ]
  },
  {
   "cell_type": "code",
   "execution_count": 39,
   "metadata": {},
   "outputs": [
    {
     "name": "stdout",
     "output_type": "stream",
     "text": [
      "Train    \n",
      "Result of trails:[1.0, 1.0, 1.0, 1.0, 1.0, 1.0, 1.0, 1.0, 1.0, 1.0]     \n",
      "Average Accuracy: 1.0     \n",
      "Confidence Interval: 0.0\n",
      "\n",
      "Test    \n",
      "Result of trails:[0.75, 0.94999999999999996, 0.84999999999999998, 0.69999999999999996, 0.84999999999999998, 0.90000000000000002, 0.80000000000000004, 0.84999999999999998, 0.90000000000000002, 0.69999999999999996]     \n",
      "Average Accuracy: 0.825     \n",
      "Confidence Interval: 0.04665107341344332\n"
     ]
    }
   ],
   "source": [
    "train_scores,test_scores,train_mean,test_mean,train_ci,test_ci = randomSplitCI(data2, 'LR', 10, c=1.0)\n",
    "print(\"Train\\\n",
    "    \\nResult of trails:{0} \\\n",
    "    \\nAverage Accuracy: {1} \\\n",
    "    \\nConfidence Interval: {2}\\n\".format(train_scores, train_mean, train_ci)\n",
    "     )\n",
    "print(\"Test\\\n",
    "    \\nResult of trails:{0} \\\n",
    "    \\nAverage Accuracy: {1} \\\n",
    "    \\nConfidence Interval: {2}\".format(test_scores, test_mean, test_ci)\n",
    "     )"
   ]
  },
  {
   "cell_type": "code",
   "execution_count": 40,
   "metadata": {},
   "outputs": [
    {
     "data": {
      "image/png": "[encoded data removed]",
      "text/plain": [
       "<matplotlib.figure.Figure at 0x1c5064c8be0>"
      ]
     },
     "metadata": {},
     "output_type": "display_data"
    }
   ],
   "source": [
    "featureSizePlot(np.linspace(0.1, 1, 10, endpoint=True),test_scores1, test_ci1, test_scores, test_ci)"
   ]
  },
  {
   "cell_type": "markdown",
   "metadata": {},
   "source": [
    "Boolean feature encoding performed better (7 % higher test accuracy).\n",
    "Some words are rare, or some documents may have smaller length. These factors lead to lower word frequency for these types of documents. Eventhough these documents are relevent to a specific class, they do not classified correctly due to low related word count."
   ]
  },
  {
   "cell_type": "markdown",
   "metadata": {},
   "source": [
    "## Q6"
   ]
  },
  {
   "cell_type": "markdown",
   "metadata": {},
   "source": [
    "### (a)"
   ]
  },
  {
   "cell_type": "code",
   "execution_count": 41,
   "metadata": {
    "collapsed": true
   },
   "outputs": [],
   "source": [
    "train_scores,test_scores,train_mean,test_mean,train_ci,test_ci = randomSplitCI(data, 'LR', 10, c=1.0)"
   ]
  },
  {
   "cell_type": "code",
   "execution_count": 42,
   "metadata": {
    "collapsed": true
   },
   "outputs": [],
   "source": [
    "train_scores2,test_scores2,train_mean2,test_mean2,train_ci,test_ci2 = randomSplitCI(data, 'NB', 10, c=1.0)"
   ]
  },
  {
   "cell_type": "code",
   "execution_count": 43,
   "metadata": {},
   "outputs": [
    {
     "data": {
      "image/png": "[encoded data removed]",
      "text/plain": [
       "<matplotlib.figure.Figure at 0x1c507851160>"
      ]
     },
     "metadata": {},
     "output_type": "display_data"
    }
   ],
   "source": [
    "featureSizePlot(np.linspace(0.1, 1, 10, endpoint=True),test_scores, test_ci, test_scores2, test_ci2)"
   ]
  },
  {
   "cell_type": "code",
   "execution_count": 44,
   "metadata": {
    "collapsed": true
   },
   "outputs": [],
   "source": [
    "assert(isinstance(data, pd.DataFrame)), \"data should be pandas dataframe type\""
   ]
  },
  {
   "cell_type": "code",
   "execution_count": 52,
   "metadata": {},
   "outputs": [],
   "source": [
    "assert(isinstance(train_scores, list)), \"train_scores should be list type\"\n",
    "assert(isinstance(test_scores, list)), \"test_scores should be list type\"\n",
    "assert(isinstance(train_mean, float)), \"train_mean should be float type\"\n",
    "assert(isinstance(test_mean, float)), \"test_mean should be float type\"\n",
    "assert(isinstance(train_ci, float)), \"train_ci should be float type\"\n",
    "assert(isinstance(test_ci, float)), \"test_ci should be float type\""
   ]
  },
  {
   "cell_type": "code",
   "execution_count": 53,
   "metadata": {
    "collapsed": true
   },
   "outputs": [],
   "source": [
    "assert(isinstance(cm, pd.DataFrame)), \"Confusion matrix should be pandas dataframe type\""
   ]
  },
  {
   "cell_type": "code",
   "execution_count": 54,
   "metadata": {
    "collapsed": true
   },
   "outputs": [],
   "source": [
    "assert(isinstance(train_mean_fs, list)), \"train_mean_fs should be list type\"\n",
    "assert(isinstance(test_mean_fs, list)), \"test_mean_fs should be list type\"\n",
    "assert(isinstance(train_ci_fs, list)), \"train_ci_fs should be list type\"\n",
    "assert(isinstance(test_ci_fs, list)), \"test_ci_fs should be list type\"\n",
    "assert(len(train_mean_fs)==len(train_ci_fs)), \\\n",
    "\"list length of mean and confidence interval are not equal(train)\"\n",
    "assert(len(test_mean_fs)==len(test_ci_fs)), \\\n",
    "\"list length of mean and confidence interval are not equal(test)\""
   ]
  },
  {
   "cell_type": "code",
   "execution_count": 55,
   "metadata": {
    "collapsed": true
   },
   "outputs": [],
   "source": [
    "assert(isinstance(train_mean_hp, list)), \"train_mean_hp should be list type\"\n",
    "assert(isinstance(test_mean_hp, list)), \"test_mean_hp should be list type\"\n",
    "assert(isinstance(train_ci_hp, list)), \"train_ci_hp should be list type\"\n",
    "assert(isinstance(test_ci_hp, list)), \"test_ci_hp should be list type\"\n",
    "assert(len(train_mean_hp)==len(train_ci_hp)), \\\n",
    "\"list length of mean and confidence interval are not equal(train)\"\n",
    "assert(len(test_mean_hp)==len(test_ci_hp)), \\\n",
    "\"list length of mean and confidence interval are not equal(test)\""
   ]
  },
  {
   "cell_type": "code",
   "execution_count": 56,
   "metadata": {
    "collapsed": true
   },
   "outputs": [],
   "source": [
    "train_mean_ds, train_ci_ds, test_mean_ds, test_ci_ds\n",
    "assert(isinstance(train_mean_ds, list)), \"train_mean_ds should be list type\"\n",
    "assert(isinstance(test_mean_ds, list)), \"test_mean_ds should be list type\"\n",
    "assert(isinstance(train_ci_ds, list)), \"train_ci_ds should be list type\"\n",
    "assert(isinstance(test_ci_ds, list)), \"test_ci_ds should be list type\"\n",
    "assert(len(train_mean_ds)==len(train_ci_ds)), \\\n",
    "\"list length of mean and confidence interval are not equal(train)\"\n",
    "assert(len(test_mean_ds)==len(test_ci_ds)), \\\n",
    "\"list length of mean and confidence interval are not equal(test)\""
   ]
  },
  {
   "cell_type": "code",
   "execution_count": null,
   "metadata": {
    "collapsed": true
   },
   "outputs": [],
   "source": []
  },
  {
   "cell_type": "code",
   "execution_count": null,
   "metadata": {
    "collapsed": true
   },
   "outputs": [],
   "source": []
  }
 ],
 "metadata": {
  "kernelspec": {
   "display_name": "Python [conda env:py35]",
   "language": "python",
   "name": "conda-env-py35-py"
  },
  "language_info": {
   "codemirror_mode": {
    "name": "ipython",
    "version": 3
   },
   "file_extension": ".py",
   "mimetype": "text/x-python",
   "name": "python",
   "nbconvert_exporter": "python",
   "pygments_lexer": "ipython3",
   "version": "3.5.3"
  }
 },
 "nbformat": 4,
 "nbformat_minor": 2
}
